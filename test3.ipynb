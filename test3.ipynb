{
 "cells": [
  {
   "cell_type": "code",
   "execution_count": null,
   "metadata": {},
   "outputs": [],
   "source": [
    "from src.configs.sverl import CharacteristicConfig\n",
    "from src.sverl import Characteristic\n",
    "from src.sverl.state_samplers import ProceduralSampler\n",
    "from src.sverl.masking import ZeroMasker\n",
    "from src.models import Model\n",
    "from torch import nn\n",
    "import copy\n",
    "from itertools import product\n",
    "import torch\n",
    "from torch.types import Tensor"
   ]
  },
  {
   "cell_type": "code",
   "execution_count": 3,
   "metadata": {},
   "outputs": [],
   "source": [
    "class TestModel(Model):\n",
    "    def _construct_model(self):\n",
    "        model = nn.Sequential(\n",
    "            self._init_layer(nn.Linear(3, 16)),\n",
    "            nn.ReLU(),\n",
    "            self._init_layer(nn.Linear(16, 2)),\n",
    "        )\n",
    "        return model"
   ]
  },
  {
   "cell_type": "code",
   "execution_count": 30,
   "metadata": {},
   "outputs": [],
   "source": [
    "# -- 1. Define 8 possible binary states\n",
    "def generate_all_states():\n",
    "    return Tensor(list(product([0, 1], repeat=3)))  # shape: (8, 3)"
   ]
  },
  {
   "cell_type": "code",
   "execution_count": 48,
   "metadata": {},
   "outputs": [],
   "source": [
    "# -- 2. Define a deterministic policy (for example purposes)\n",
    "class SimpleBinaryPolicy(nn.Module):\n",
    "    def __init__(self):\n",
    "        super().__init__()\n",
    "        # We'll just hardcode a mapping: e.g., sum(state) > 1 → action 1 (yes), else 0 (no)\n",
    "    \n",
    "    def forward(self, x):\n",
    "        # Rule-based: sum the features, output action 1 if sum > 1, else 0\n",
    "        return torch.nn.functional.one_hot((x.sum(dim=-1) > 1).long(), 2).float()"
   ]
  },
  {
   "cell_type": "code",
   "execution_count": 49,
   "metadata": {},
   "outputs": [],
   "source": [
    "policy = SimpleBinaryPolicy()\n",
    "states = generate_all_states()"
   ]
  },
  {
   "cell_type": "code",
   "execution_count": null,
   "metadata": {},
   "outputs": [],
   "source": [
    "masker = ZeroMasker()"
   ]
  },
  {
   "cell_type": "code",
   "execution_count": null,
   "metadata": {},
   "outputs": [],
   "source": []
  },
  {
   "cell_type": "code",
   "execution_count": 62,
   "metadata": {},
   "outputs": [
    {
     "name": "stdout",
     "output_type": "stream",
     "text": [
      "0.4430120885372162\n",
      "0.424513578414917\n",
      "0.4155327081680298\n",
      "0.40287721157073975\n",
      "0.3839949667453766\n",
      "0.3637024164199829\n",
      "0.49410679936408997\n",
      "0.3590109050273895\n",
      "0.3487154245376587\n",
      "0.2918359935283661\n",
      "0.32505398988723755\n",
      "0.3515026867389679\n",
      "0.35201072692871094\n",
      "0.2721220850944519\n",
      "0.3118796646595001\n",
      "0.3076092600822449\n",
      "0.3098236620426178\n",
      "0.311847060918808\n",
      "0.2846294939517975\n",
      "0.25962144136428833\n",
      "0.2846491038799286\n",
      "0.3035305440425873\n",
      "0.271392285823822\n",
      "0.2596524953842163\n",
      "0.308035671710968\n",
      "0.2783072590827942\n",
      "0.3013690114021301\n",
      "0.24796490371227264\n",
      "0.22790537774562836\n",
      "0.23861238360404968\n",
      "0.23913463950157166\n",
      "0.24817289412021637\n",
      "0.26149481534957886\n",
      "0.22604233026504517\n",
      "0.23798400163650513\n",
      "0.23919571936130524\n",
      "0.2218385487794876\n",
      "0.22781449556350708\n",
      "0.24834254384040833\n",
      "0.24642255902290344\n",
      "0.22528666257858276\n",
      "0.23255057632923126\n",
      "0.23461364209651947\n",
      "0.21395862102508545\n",
      "0.21034842729568481\n",
      "0.19343635439872742\n",
      "0.19429150223731995\n",
      "0.2148958444595337\n",
      "0.2197200357913971\n",
      "0.19877982139587402\n"
     ]
    }
   ],
   "source": [
    "model = TestModel()\n",
    "optimiser = torch.optim.Adam(model.parameters(), lr=0.00005)\n",
    "\n",
    "states = generate_all_states()\n",
    "targets = policy(states)\n",
    "for epoch in range(5000):\n",
    "    i = torch.randint(0, 8, (64, ))\n",
    "    x = states[i]\n",
    "    y = targets[i]\n",
    "    \n",
    "    mask = torch.rand_like(x) > 0.5\n",
    "    x[mask] = 0\n",
    "\n",
    "    logits = model(x)\n",
    "    loss = torch.square(logits - y).mean()\n",
    "\n",
    "    optimiser.zero_grad()\n",
    "    loss.backward()\n",
    "    optimiser.step()\n",
    "    if epoch % 100 == 0:\n",
    "        print(loss.item())"
   ]
  },
  {
   "cell_type": "code",
   "execution_count": null,
   "metadata": {},
   "outputs": [
    {
     "data": {
      "text/plain": [
       "tensor(0.2067)"
      ]
     },
     "execution_count": 68,
     "metadata": {},
     "output_type": "execute_result"
    }
   ],
   "source": [
    "states = generate_all_states()\n",
    "targets = policy(states)\n",
    "total_loss = 0\n",
    "for epoch in range(5000):\n",
    "    with torch.no_grad():\n",
    "        i = torch.randint(0, 8, (64, ))\n",
    "        x = states[i]\n",
    "        y = targets[i]\n",
    "        \n",
    "        mask = torch.rand_like(x) > 0.5\n",
    "        x[mask] = 0\n",
    "\n",
    "        logits = model(x)\n",
    "        loss = torch.square(logits - y).mean()\n",
    "        total_loss += loss\n",
    "total_loss /= 5000"
   ]
  },
  {
   "cell_type": "code",
   "execution_count": 64,
   "metadata": {},
   "outputs": [],
   "source": [
    "s = {'state': {'model': model.state_dict()}}\n",
    "torch.save(s, 'test.pt')"
   ]
  },
  {
   "cell_type": "code",
   "execution_count": 66,
   "metadata": {},
   "outputs": [],
   "source": [
    "s2 = torch.load('test.pt', weights_only=False)"
   ]
  },
  {
   "cell_type": "code",
   "execution_count": 74,
   "metadata": {},
   "outputs": [
    {
     "name": "stdout",
     "output_type": "stream",
     "text": [
      "\n"
     ]
    }
   ],
   "source": [
    "model2 = TestModel()\n",
    "model2.load_state_dict(s2['state']['model'])\n",
    "print()"
   ]
  },
  {
   "cell_type": "code",
   "execution_count": 80,
   "metadata": {},
   "outputs": [
    {
     "name": "stdout",
     "output_type": "stream",
     "text": [
      "tensor(0.2071)\n"
     ]
    }
   ],
   "source": [
    "states = generate_all_states()\n",
    "targets = policy(states)\n",
    "total_loss = 0\n",
    "for epoch in range(5000):\n",
    "    with torch.no_grad():\n",
    "        i = torch.randint(0, 8, (64, ))\n",
    "        x = states[i]\n",
    "        y = targets[i]\n",
    "        \n",
    "        mask = torch.rand_like(x) > 0.5\n",
    "        x[mask] = 0\n",
    "\n",
    "        logits = model2(x)\n",
    "        loss = torch.square(logits - y).mean()\n",
    "        total_loss += loss\n",
    "total_loss /= 5000\n",
    "print(total_loss)"
   ]
  }
 ],
 "metadata": {
  "kernelspec": {
   "display_name": "Python 3",
   "language": "python",
   "name": "python3"
  },
  "language_info": {
   "codemirror_mode": {
    "name": "ipython",
    "version": 3
   },
   "file_extension": ".py",
   "mimetype": "text/x-python",
   "name": "python",
   "nbconvert_exporter": "python",
   "pygments_lexer": "ipython3",
   "version": "3.12.8"
  }
 },
 "nbformat": 4,
 "nbformat_minor": 2
}
