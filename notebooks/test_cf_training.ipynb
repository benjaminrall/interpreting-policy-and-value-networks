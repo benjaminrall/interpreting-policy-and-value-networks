{
 "cells": [
  {
   "cell_type": "code",
   "execution_count": 3,
   "metadata": {},
   "outputs": [],
   "source": [
    "from src import Trainer\n",
    "import torch\n",
    "import numpy as np"
   ]
  },
  {
   "cell_type": "code",
   "execution_count": 5,
   "metadata": {},
   "outputs": [],
   "source": [
    "with open('configs/breakout/sverl/policy-characteristic-2.yaml') as f:\n",
    "    trainer = Trainer.from_yaml(f)"
   ]
  },
  {
   "cell_type": "code",
   "execution_count": 6,
   "metadata": {},
   "outputs": [
    {
     "data": {
      "text/plain": [
       "Characteristic(\n",
       "  (agent): PPO(\n",
       "    (actor): PPOAtariActor(\n",
       "      (model): Sequential(\n",
       "        (0): Conv2d(4, 32, kernel_size=(8, 8), stride=(4, 4))\n",
       "        (1): ReLU()\n",
       "        (2): Conv2d(32, 64, kernel_size=(4, 4), stride=(2, 2))\n",
       "        (3): ReLU()\n",
       "        (4): Conv2d(64, 64, kernel_size=(3, 3), stride=(1, 1))\n",
       "        (5): ReLU()\n",
       "        (6): Flatten(start_dim=1, end_dim=-1)\n",
       "        (7): Linear(in_features=3136, out_features=512, bias=True)\n",
       "        (8): ReLU()\n",
       "        (9): Linear(in_features=512, out_features=4, bias=True)\n",
       "      )\n",
       "    )\n",
       "    (critic): PPOAtariCritic(\n",
       "      (model): Sequential(\n",
       "        (0): Conv2d(4, 32, kernel_size=(8, 8), stride=(4, 4))\n",
       "        (1): ReLU()\n",
       "        (2): Conv2d(32, 64, kernel_size=(4, 4), stride=(2, 2))\n",
       "        (3): ReLU()\n",
       "        (4): Conv2d(64, 64, kernel_size=(3, 3), stride=(1, 1))\n",
       "        (5): ReLU()\n",
       "        (6): Flatten(start_dim=1, end_dim=-1)\n",
       "        (7): Linear(in_features=3136, out_features=512, bias=True)\n",
       "        (8): ReLU()\n",
       "        (9): Linear(in_features=512, out_features=1, bias=True)\n",
       "      )\n",
       "    )\n",
       "  )\n",
       "  (target): PPOAtariActor(\n",
       "    (model): Sequential(\n",
       "      (0): Conv2d(4, 32, kernel_size=(8, 8), stride=(4, 4))\n",
       "      (1): ReLU()\n",
       "      (2): Conv2d(32, 64, kernel_size=(4, 4), stride=(2, 2))\n",
       "      (3): ReLU()\n",
       "      (4): Conv2d(64, 64, kernel_size=(3, 3), stride=(1, 1))\n",
       "      (5): ReLU()\n",
       "      (6): Flatten(start_dim=1, end_dim=-1)\n",
       "      (7): Linear(in_features=3136, out_features=512, bias=True)\n",
       "      (8): ReLU()\n",
       "      (9): Linear(in_features=512, out_features=4, bias=True)\n",
       "    )\n",
       "  )\n",
       "  (model): CharacteristicStandardAtari(\n",
       "    (model): Sequential(\n",
       "      (0): Conv2d(4, 32, kernel_size=(8, 8), stride=(4, 4))\n",
       "      (1): ReLU()\n",
       "      (2): Conv2d(32, 64, kernel_size=(4, 4), stride=(2, 2))\n",
       "      (3): ReLU()\n",
       "      (4): Conv2d(64, 64, kernel_size=(3, 3), stride=(1, 1))\n",
       "      (5): ReLU()\n",
       "      (6): Flatten(start_dim=1, end_dim=-1)\n",
       "      (7): Linear(in_features=3136, out_features=512, bias=True)\n",
       "      (8): ReLU()\n",
       "      (9): Linear(in_features=512, out_features=4, bias=True)\n",
       "    )\n",
       "  )\n",
       ")"
      ]
     },
     "execution_count": 6,
     "metadata": {},
     "output_type": "execute_result"
    }
   ],
   "source": [
    "trainer.objective"
   ]
  },
  {
   "cell_type": "code",
   "execution_count": null,
   "metadata": {},
   "outputs": [],
   "source": [
    "# Increase masking linearly for first n epochs - x doesn't work, training deteriorates as soon as higher masking value is reached\n",
    "\n",
    "# Train across actions separately\n",
    "\n",
    "# Use softmax/cross-entropy loss\n",
    "\n",
    "# Pre-train the model without masking - x too similar to earning without masking only for it to deteriorate\n",
    "\n",
    "# Less aggressive annealing / higher LR - x doesn't work, it's just less stable for a while and then averages out to the same result"
   ]
  }
 ],
 "metadata": {
  "kernelspec": {
   "display_name": "Python 3",
   "language": "python",
   "name": "python3"
  },
  "language_info": {
   "codemirror_mode": {
    "name": "ipython",
    "version": 3
   },
   "file_extension": ".py",
   "mimetype": "text/x-python",
   "name": "python",
   "nbconvert_exporter": "python",
   "pygments_lexer": "ipython3",
   "version": "3.12.8"
  }
 },
 "nbformat": 4,
 "nbformat_minor": 2
}
